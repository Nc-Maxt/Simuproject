{
 "cells": [
  {
   "cell_type": "code",
   "execution_count": 1,
   "id": "71dcdcf61bdf468c",
   "metadata": {
    "ExecuteTime": {
     "end_time": "2024-11-16T15:20:47.392435Z",
     "start_time": "2024-11-16T15:20:47.385164Z"
    }
   },
   "outputs": [],
   "source": [
    "import numpy as np\n",
    "import matplotlib.pyplot as plt\n",
    "import matplotlib.colors as mcolors\n",
    "from matplotlib.animation import FuncAnimation\n",
    "from IPython.display import HTML\n",
    "import sys\n",
    "import os.path\n",
    "\n",
    "sys.path.append(os.path.abspath(os.path.join(os.getcwd(), \"..\")))\n",
    "from UniformTrees.dust import Dualgraph, rescalate\n",
    "from UniformTrees.dfsmatrix import dfsmatrix\n",
    "from anim.animSLE import animSLE"
   ]
  },
  {
   "cell_type": "code",
   "execution_count": 2,
   "id": "23ca13ec73c6aeea",
   "metadata": {
    "ExecuteTime": {
     "end_time": "2024-11-16T15:20:47.421447Z",
     "start_time": "2024-11-16T15:20:47.411440Z"
    }
   },
   "outputs": [
    {
     "name": "stdout",
     "output_type": "stream",
     "text": [
      "[2, 8]\n",
      "[array([[1, 1],\n",
      "       [1, 2],\n",
      "       [1, 3],\n",
      "       [0, 3],\n",
      "       [0, 4],\n",
      "       [0, 5],\n",
      "       [0, 6],\n",
      "       [0, 7],\n",
      "       [1, 7],\n",
      "       [2, 7],\n",
      "       [2, 8]]), array([[7, 3],\n",
      "       [7, 4],\n",
      "       [6, 4],\n",
      "       [6, 3],\n",
      "       [6, 2],\n",
      "       [5, 2],\n",
      "       [4, 2],\n",
      "       [4, 3],\n",
      "       [5, 3],\n",
      "       [5, 4],\n",
      "       [5, 5],\n",
      "       [5, 6],\n",
      "       [5, 7],\n",
      "       [4, 7],\n",
      "       [4, 8],\n",
      "       [3, 8],\n",
      "       [3, 9],\n",
      "       [2, 9],\n",
      "       [2, 8]]), array([[4, 6],\n",
      "       [3, 6],\n",
      "       [3, 7],\n",
      "       [3, 8]]), array([[1, 4],\n",
      "       [1, 3]]), array([[9, 7],\n",
      "       [9, 8],\n",
      "       [8, 8],\n",
      "       [8, 7],\n",
      "       [7, 7],\n",
      "       [7, 8],\n",
      "       [6, 8],\n",
      "       [5, 8],\n",
      "       [5, 9],\n",
      "       [4, 9],\n",
      "       [4, 8]]), array([[2, 5],\n",
      "       [2, 4],\n",
      "       [3, 4],\n",
      "       [3, 5],\n",
      "       [4, 5],\n",
      "       [5, 5]]), array([[0, 9],\n",
      "       [0, 8],\n",
      "       [1, 8],\n",
      "       [1, 7]]), array([[6, 7],\n",
      "       [7, 7]]), array([[4, 1],\n",
      "       [5, 1],\n",
      "       [6, 1],\n",
      "       [6, 2]]), array([[8, 4],\n",
      "       [9, 4],\n",
      "       [9, 3],\n",
      "       [8, 3],\n",
      "       [8, 2],\n",
      "       [8, 1],\n",
      "       [8, 0],\n",
      "       [7, 0],\n",
      "       [6, 0],\n",
      "       [6, 1]]), array([[9, 6],\n",
      "       [9, 5],\n",
      "       [8, 5],\n",
      "       [8, 4]]), array([[7, 6],\n",
      "       [8, 6],\n",
      "       [8, 5]]), array([[7, 9],\n",
      "       [7, 8]]), array([[3, 2],\n",
      "       [3, 3],\n",
      "       [3, 4]]), array([[6, 9],\n",
      "       [6, 8]]), array([[6, 5],\n",
      "       [6, 4]]), array([[0, 2],\n",
      "       [1, 2]]), array([[2, 6],\n",
      "       [2, 7]]), array([[4, 4],\n",
      "       [4, 3]]), array([[9, 0],\n",
      "       [8, 0]]), array([[2, 2],\n",
      "       [2, 1],\n",
      "       [3, 1],\n",
      "       [4, 1]]), array([[2, 0],\n",
      "       [3, 0],\n",
      "       [3, 1]]), array([[4, 0],\n",
      "       [4, 1]]), array([[1, 5],\n",
      "       [0, 5]]), array([[6, 6],\n",
      "       [7, 6]]), array([[9, 1],\n",
      "       [9, 2],\n",
      "       [8, 2]]), array([[0, 1],\n",
      "       [1, 1]]), array([[8, 9],\n",
      "       [9, 9],\n",
      "       [9, 8]]), array([[7, 5],\n",
      "       [7, 4]]), array([[1, 6],\n",
      "       [0, 6]]), array([[7, 2],\n",
      "       [8, 2]]), array([[7, 1],\n",
      "       [6, 1]]), array([[1, 0],\n",
      "       [0, 0],\n",
      "       [0, 1]]), array([[2, 3],\n",
      "       [3, 3]]), array([[5, 0],\n",
      "       [5, 1]]), array([[1, 9],\n",
      "       [0, 9]])]\n"
     ]
    }
   ],
   "source": [
    "grafo = Dualgraph((10, 10))\n",
    "\n",
    "f = grafo.graph.get_start()\n",
    "print(f)\n",
    "grafo.wilson()\n",
    "s = grafo.path\n",
    "print(s)"
   ]
  },
  {
   "cell_type": "code",
   "execution_count": 3,
   "id": "42d93289ac128364",
   "metadata": {
    "ExecuteTime": {
     "end_time": "2024-11-16T15:20:49.064833Z",
     "start_time": "2024-11-16T15:20:47.440470Z"
    }
   },
   "outputs": [],
   "source": [
    "# count = 0\n",
    "# arr = []\n",
    "# for i in s:\n",
    "#     for j in i:\n",
    "#         arr.append(j)\n",
    "#     arr.append(None)  # Marcador para separar listas\n",
    "#     count += 1\n",
    "# M = grafo.graph.grid\n",
    "\n",
    "# m, n = M.shape\n",
    "# fig, ax = plt.subplots()\n",
    "# ax.set_xlim(-0.5, n-0.5)\n",
    "# ax.set_ylim(-0.5, m-0.5)\n",
    "# ax.set_xticks(np.arange(M.shape[0]))\n",
    "# ax.set_yticks(np.arange(M.shape[1]))\n",
    "# ax.grid(True)\n",
    "# ax.set_title('Arbol generado por Wilson')\n",
    "\n",
    "# # Punto inicial en rojo\n",
    "# ax.plot(f[1], f[0], 'ro', label='Punto a')  # punto `a` en rojo\n",
    "\n",
    "# # Lista para manejar las líneas acumuladas\n",
    "# lines = []\n",
    "# current_xdata, current_ydata = [], []\n",
    "\n",
    "# def init():\n",
    "#     return lines\n",
    "\n",
    "# def update(frame):\n",
    "#     global current_xdata, current_ydata\n",
    "#     if arr[frame] is None:  # Detectar cambio de sublista\n",
    "#         # Crear una nueva línea para la siguiente sublista\n",
    "#         new_line, = ax.plot(current_ydata, current_xdata, color='blue', marker='o', linestyle='-', lw=2)\n",
    "#         lines.append(new_line)  # Guardar la línea actual\n",
    "#         current_xdata, current_ydata = [], []  # Reiniciar los datos\n",
    "#     else:\n",
    "#         x, y = arr[frame]\n",
    "#         current_xdata.append(x)\n",
    "#         current_ydata.append(y)\n",
    "\n",
    "#         # Actualizar la línea actual en tiempo real\n",
    "#         if len(lines) > 0:\n",
    "#             lines[-1].set_data(current_ydata, current_xdata)\n",
    "#         else:\n",
    "#             line, = ax.plot(current_ydata, current_xdata, color='blue', marker='o', linestyle='-', lw=2)\n",
    "#             lines.append(line)  # Crear la primera línea si no existe\n",
    "#     return lines\n",
    "\n",
    "\n",
    "# anim = FuncAnimation(fig,\n",
    "#                      update,\n",
    "#                      frames=len(arr),\n",
    "#                      init_func=init,\n",
    "#                      blit=True,  # Necesario para redibujar todo\n",
    "#                      interval=500)\n",
    "\n",
    "# HTML(anim.to_jshtml())\n"
   ]
  },
  {
   "cell_type": "code",
   "execution_count": 4,
   "id": "3b34e54d57d3686a",
   "metadata": {
    "ExecuteTime": {
     "end_time": "2024-11-16T15:20:49.094549Z",
     "start_time": "2024-11-16T15:20:49.086775Z"
    }
   },
   "outputs": [],
   "source": [
    "grafo.scalate()"
   ]
  },
  {
   "cell_type": "code",
   "execution_count": 5,
   "id": "4f4c5a54c34a3f90",
   "metadata": {
    "ExecuteTime": {
     "end_time": "2024-11-16T15:20:49.137211Z",
     "start_time": "2024-11-16T15:20:49.129719Z"
    }
   },
   "outputs": [
    {
     "data": {
      "image/png": "[encoded data removed]",
      "text/plain": [
       "<Figure size 640x480 with 1 Axes>"
      ]
     },
     "metadata": {},
     "output_type": "display_data"
    }
   ],
   "source": [
    "def custom_plot(matrix, title=None):\n",
    "    # Create a custom colormap\n",
    "    cmap = mcolors.ListedColormap(['white', 'purple', 'green'])\n",
    "    bounds = [0, 1, 2, 3]\n",
    "    norm = mcolors.BoundaryNorm(bounds, cmap.N)\n",
    "\n",
    "    plt.imshow(matrix, cmap=cmap, norm=norm)\n",
    "    # plt.colorbar(ticks=[0, 1, 2], format='%d')\n",
    "    plt.title(title)\n",
    "    plt.show()\n",
    "\n",
    "\n",
    "grafo.gridact()\n",
    "# print(grafo.grid)\n",
    "custom_plot(grafo.grid, \"Arbol primal\")"
   ]
  },
  {
   "cell_type": "code",
   "execution_count": 6,
   "id": "98f8b123",
   "metadata": {},
   "outputs": [
    {
     "data": {
      "image/png": "[encoded data removed]",
      "text/plain": [
       "<Figure size 640x480 with 1 Axes>"
      ]
     },
     "metadata": {},
     "output_type": "display_data"
    }
   ],
   "source": [
    "d = grafo.dual()\n",
    "\n",
    "custom_plot(2*d + grafo.grid, \"Arbol primal y dual\")"
   ]
  },
  {
   "cell_type": "code",
   "execution_count": 7,
   "id": "48ce5e01",
   "metadata": {},
   "outputs": [],
   "source": [
    "p = dfsmatrix(d+grafo.grid)"
   ]
  },
  {
   "cell_type": "code",
   "execution_count": 8,
   "id": "fe21cb74",
   "metadata": {},
   "outputs": [
    {
     "data": {
      "text/plain": [
       "<matplotlib.image.AxesImage at 0x7fc3b1831a10>"
      ]
     },
     "execution_count": 8,
     "metadata": {},
     "output_type": "execute_result"
    },
    {
     "data": {
      "image/png": "[encoded data removed]",
      "text/plain": [
       "<Figure size 480x480 with 1 Axes>"
      ]
     },
     "metadata": {},
     "output_type": "display_data"
    }
   ],
   "source": [
    "M2 = np.zeros(d.shape)\n",
    "M2[p[:,0], p[:,1]] = 1\n",
    "plt.matshow(M2)"
   ]
  },
  {
   "cell_type": "code",
   "execution_count": 9,
   "id": "f5bb3876",
   "metadata": {},
   "outputs": [
    {
     "data": {
      "image/png": "[encoded data removed]",
      "text/plain": [
       "<Figure size 640x480 with 1 Axes>"
      ]
     },
     "metadata": {},
     "output_type": "display_data"
    }
   ],
   "source": [
    "animSLE(grafo.grid, d, p)"
   ]
  }
 ],
 "metadata": {
  "kernelspec": {
   "display_name": "venv",
   "language": "python",
   "name": "python3"
  },
  "language_info": {
   "codemirror_mode": {
    "name": "ipython",
    "version": 3
   },
   "file_extension": ".py",
   "mimetype": "text/x-python",
   "name": "python",
   "nbconvert_exporter": "python",
   "pygments_lexer": "ipython3",
   "version": "3.11.2"
  }
 },
 "nbformat": 4,
 "nbformat_minor": 5
}
