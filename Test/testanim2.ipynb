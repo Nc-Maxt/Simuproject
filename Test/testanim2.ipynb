{
 "cells": [
  {
   "cell_type": "code",
   "execution_count": null,
   "id": "initial_id",
   "metadata": {
    "collapsed": true
   },
   "outputs": [],
   "source": [
    "import numpy as np\n",
    "import matplotlib.pyplot as plt\n",
    "from matplotlib.animation import FuncAnimation\n",
    "from IPython.display import HTML\n",
    "import sys\n",
    "import os.path\n",
    "\n",
    "sys.path.append(os.path.abspath(os.path.join(os.getcwd(), \"..\")))\n",
    "from UniformTrees.dust import dualgraph, rescalate\n",
    "\n",
    "grafo = dualgraph((10, 10))\n",
    "\n",
    "a = np.random.randint(0, 10, 2)\n",
    "print(a)\n",
    "arr, d = grafo.random_walk(a)\n",
    "M = grafo.grid\n",
    "\n",
    "m, n = M.shape\n",
    "fig, ax = plt.subplots()\n",
    "ax.set_xlim(-0.5, n-0.5)\n",
    "ax.set_ylim(-0.5, m-0.5)\n",
    "ax.set_xticks(np.arange(M.shape[0]))\n",
    "ax.set_yticks(np.arange(M.shape[1]))\n",
    "ax.grid(True)\n",
    "\n",
    "# Colores para puntos iniciales `a` y `f`\n",
    "\n",
    "\n",
    "\n",
    "xdata, ydata = [], []\n",
    "(line,) = ax.plot([], [], color='blue', marker='o', linestyle='-', lw=2)\n",
    "ax.plot(a[1], a[0], 'ro', label='Punto a')  # punto `a` en rojo\n",
    "ax.plot(f[1], f[0], 'ro', label='Punto f')  # punto `f` en rojo\n",
    "\n",
    "def init():\n",
    "    line.set_data([], [])\n",
    "    return line,\n",
    "\n",
    "def update(frame):\n",
    "    x, y = arr[frame]\n",
    "\n",
    "    xdata.append(x)\n",
    "    ydata.append(y)\n",
    "\n",
    "    line.set_data(ydata, xdata)\n",
    "    return line,\n",
    "\n",
    "\n",
    "anim = FuncAnimation(fig,\n",
    "                     update,\n",
    "                     frames=len(arr),\n",
    "                     init_func=init,\n",
    "                     blit=True,\n",
    "                     interval=500)\n",
    "\n",
    "HTML(anim.to_jshtml())"
   ]
  }
 ],
 "metadata": {
  "kernelspec": {
   "display_name": "Python 3",
   "language": "python",
   "name": "python3"
  },
  "language_info": {
   "codemirror_mode": {
    "name": "ipython",
    "version": 2
   },
   "file_extension": ".py",
   "mimetype": "text/x-python",
   "name": "python",
   "nbconvert_exporter": "python",
   "pygments_lexer": "ipython2",
   "version": "2.7.6"
  }
 },
 "nbformat": 4,
 "nbformat_minor": 5
}
